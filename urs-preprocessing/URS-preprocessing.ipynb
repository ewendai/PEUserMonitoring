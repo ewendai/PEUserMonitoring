{
 "cells": [
  {
   "cell_type": "code",
   "execution_count": 8,
   "metadata": {
    "scrolled": true
   },
   "outputs": [],
   "source": [
    "import numpy as np\n",
    "import pandas as pd\n",
    "import re\n",
    "\n",
    "pd.set_option('display.max_columns', None)\n",
    "#pd.set_option('display.max_rows', None)"
   ]
  },
  {
   "cell_type": "markdown",
   "metadata": {},
   "source": [
    "# Preprocessing DataHunts\n",
    "This code will take in a datahunt csv and return the partial (or whole) csv that only contains the rows that have'nt been processed and scored yet."
   ]
  },
  {
   "cell_type": "code",
   "execution_count": 2,
   "metadata": {
    "scrolled": true
   },
   "outputs": [
    {
     "data": {
      "text/html": [
       "<div>\n",
       "<style scoped>\n",
       "    .dataframe tbody tr th:only-of-type {\n",
       "        vertical-align: middle;\n",
       "    }\n",
       "\n",
       "    .dataframe tbody tr th {\n",
       "        vertical-align: top;\n",
       "    }\n",
       "\n",
       "    .dataframe thead th {\n",
       "        text-align: right;\n",
       "    }\n",
       "</style>\n",
       "<table border=\"1\" class=\"dataframe\">\n",
       "  <thead>\n",
       "    <tr style=\"text-align: right;\">\n",
       "      <th></th>\n",
       "      <th>namespace</th>\n",
       "      <th>schema_sha256</th>\n",
       "      <th>quiz_task_uuid</th>\n",
       "      <th>task_url</th>\n",
       "      <th>tua_uuid</th>\n",
       "      <th>article_batch_name</th>\n",
       "      <th>article_number</th>\n",
       "      <th>article_filename</th>\n",
       "      <th>article_sha256</th>\n",
       "      <th>article_text_length</th>\n",
       "      <th>destination</th>\n",
       "      <th>task_redundancy</th>\n",
       "      <th>taskrun_count</th>\n",
       "      <th>quiz_taskrun_uuid</th>\n",
       "      <th>contributor_uuid</th>\n",
       "      <th>created</th>\n",
       "      <th>finish_time</th>\n",
       "      <th>elapsed_seconds</th>\n",
       "      <th>topic_name</th>\n",
       "      <th>question_label</th>\n",
       "      <th>question_text</th>\n",
       "      <th>answer_label</th>\n",
       "      <th>answer_content</th>\n",
       "      <th>answer_uuid</th>\n",
       "      <th>submitted_tua_uuid</th>\n",
       "      <th>answer_text</th>\n",
       "      <th>case_number</th>\n",
       "      <th>highlight_count</th>\n",
       "      <th>start_pos</th>\n",
       "      <th>end_pos</th>\n",
       "      <th>target_text</th>\n",
       "    </tr>\n",
       "  </thead>\n",
       "  <tbody>\n",
       "    <tr>\n",
       "      <th>0</th>\n",
       "      <td>Covid_Evidence2020_03_21</td>\n",
       "      <td>45dce5251bd3ea6e908fa33ac9e6a8e17e6830215912ce...</td>\n",
       "      <td>c5df7dbf-85ef-4935-81a7-c24daa809afe</td>\n",
       "      <td>https://pe.goodlylabs.org/project/Covid_Eviden...</td>\n",
       "      <td>89b3dc04-f6f7-48ba-bf2a-14f70ff5d16e</td>\n",
       "      <td>CovidArticles/USMightBeComplementingIran.txt</td>\n",
       "      <td>100054</td>\n",
       "      <td>USMightBeComplementingIran.txt</td>\n",
       "      <td>7360da3cdcf83a48e365821654ef0750810f3483efb8e2...</td>\n",
       "      <td>1870</td>\n",
       "      <td>PYBOSSA</td>\n",
       "      <td>4</td>\n",
       "      <td>22</td>\n",
       "      <td>569039c7-059b-44ac-b947-2998dff1befc</td>\n",
       "      <td>e1ae8875-a398-4dde-8f4e-4b21109784e3</td>\n",
       "      <td>2020-03-22 15:03:27.974431</td>\n",
       "      <td>2020-03-22 15:05:45.176476</td>\n",
       "      <td>137.202045</td>\n",
       "      <td>Evidence Specialist</td>\n",
       "      <td>T1.Q1</td>\n",
       "      <td>Is a general or singular causal claim made? Hi...</td>\n",
       "      <td>T1.Q1.A1</td>\n",
       "      <td>General Causation (In general, X causes Y.)</td>\n",
       "      <td>73d7a14a-9ec6-404c-b2b7-a55508af3b76</td>\n",
       "      <td>48c9aa6f-77c0-410f-9029-3aa47defef88</td>\n",
       "      <td>General Causation (In general, X causes Y.)</td>\n",
       "      <td>1</td>\n",
       "      <td>1</td>\n",
       "      <td>1766</td>\n",
       "      <td>1801</td>\n",
       "      <td>988 people have died from the virus</td>\n",
       "    </tr>\n",
       "    <tr>\n",
       "      <th>1</th>\n",
       "      <td>Covid_Evidence2020_03_21</td>\n",
       "      <td>45dce5251bd3ea6e908fa33ac9e6a8e17e6830215912ce...</td>\n",
       "      <td>c5df7dbf-85ef-4935-81a7-c24daa809afe</td>\n",
       "      <td>https://pe.goodlylabs.org/project/Covid_Eviden...</td>\n",
       "      <td>89b3dc04-f6f7-48ba-bf2a-14f70ff5d16e</td>\n",
       "      <td>CovidArticles/USMightBeComplementingIran.txt</td>\n",
       "      <td>100054</td>\n",
       "      <td>USMightBeComplementingIran.txt</td>\n",
       "      <td>7360da3cdcf83a48e365821654ef0750810f3483efb8e2...</td>\n",
       "      <td>1870</td>\n",
       "      <td>PYBOSSA</td>\n",
       "      <td>4</td>\n",
       "      <td>22</td>\n",
       "      <td>569039c7-059b-44ac-b947-2998dff1befc</td>\n",
       "      <td>e1ae8875-a398-4dde-8f4e-4b21109784e3</td>\n",
       "      <td>2020-03-22 15:03:27.974431</td>\n",
       "      <td>2020-03-22 15:05:45.176476</td>\n",
       "      <td>137.202045</td>\n",
       "      <td>Evidence Specialist</td>\n",
       "      <td>T1.Q2</td>\n",
       "      <td>What evidence is given for the primary causal ...</td>\n",
       "      <td>T1.Q2.A8</td>\n",
       "      <td>Other evidence</td>\n",
       "      <td>857d25f3-1a9c-45a3-b9dc-5cdc41e9d438</td>\n",
       "      <td>df4963b4-1436-406d-8f68-e3961bfd5fc5</td>\n",
       "      <td>Other evidence</td>\n",
       "      <td>1</td>\n",
       "      <td>1</td>\n",
       "      <td>1787</td>\n",
       "      <td>1801</td>\n",
       "      <td>from the virus</td>\n",
       "    </tr>\n",
       "    <tr>\n",
       "      <th>2</th>\n",
       "      <td>Covid_Evidence2020_03_21</td>\n",
       "      <td>45dce5251bd3ea6e908fa33ac9e6a8e17e6830215912ce...</td>\n",
       "      <td>c5df7dbf-85ef-4935-81a7-c24daa809afe</td>\n",
       "      <td>https://pe.goodlylabs.org/project/Covid_Eviden...</td>\n",
       "      <td>89b3dc04-f6f7-48ba-bf2a-14f70ff5d16e</td>\n",
       "      <td>CovidArticles/USMightBeComplementingIran.txt</td>\n",
       "      <td>100054</td>\n",
       "      <td>USMightBeComplementingIran.txt</td>\n",
       "      <td>7360da3cdcf83a48e365821654ef0750810f3483efb8e2...</td>\n",
       "      <td>1870</td>\n",
       "      <td>PYBOSSA</td>\n",
       "      <td>4</td>\n",
       "      <td>22</td>\n",
       "      <td>569039c7-059b-44ac-b947-2998dff1befc</td>\n",
       "      <td>e1ae8875-a398-4dde-8f4e-4b21109784e3</td>\n",
       "      <td>2020-03-22 15:03:27.974431</td>\n",
       "      <td>2020-03-22 15:05:45.176476</td>\n",
       "      <td>137.202045</td>\n",
       "      <td>Evidence Specialist</td>\n",
       "      <td>T1.Q2</td>\n",
       "      <td>What evidence is given for the primary causal ...</td>\n",
       "      <td>T1.Q2.A3</td>\n",
       "      <td>The correlation appears across multiple indepe...</td>\n",
       "      <td>fee5e5ec-ce13-43e7-aca6-5babee4eb8a5</td>\n",
       "      <td>f8700a84-7ede-496f-a90d-ebe0782ae0ff</td>\n",
       "      <td>The correlation appears across multiple indepe...</td>\n",
       "      <td>1</td>\n",
       "      <td>1</td>\n",
       "      <td>1766</td>\n",
       "      <td>1842</td>\n",
       "      <td>988 people have died from the virus across Ira...</td>\n",
       "    </tr>\n",
       "  </tbody>\n",
       "</table>\n",
       "</div>"
      ],
      "text/plain": [
       "                  namespace  \\\n",
       "0  Covid_Evidence2020_03_21   \n",
       "1  Covid_Evidence2020_03_21   \n",
       "2  Covid_Evidence2020_03_21   \n",
       "\n",
       "                                       schema_sha256  \\\n",
       "0  45dce5251bd3ea6e908fa33ac9e6a8e17e6830215912ce...   \n",
       "1  45dce5251bd3ea6e908fa33ac9e6a8e17e6830215912ce...   \n",
       "2  45dce5251bd3ea6e908fa33ac9e6a8e17e6830215912ce...   \n",
       "\n",
       "                         quiz_task_uuid  \\\n",
       "0  c5df7dbf-85ef-4935-81a7-c24daa809afe   \n",
       "1  c5df7dbf-85ef-4935-81a7-c24daa809afe   \n",
       "2  c5df7dbf-85ef-4935-81a7-c24daa809afe   \n",
       "\n",
       "                                            task_url  \\\n",
       "0  https://pe.goodlylabs.org/project/Covid_Eviden...   \n",
       "1  https://pe.goodlylabs.org/project/Covid_Eviden...   \n",
       "2  https://pe.goodlylabs.org/project/Covid_Eviden...   \n",
       "\n",
       "                               tua_uuid  \\\n",
       "0  89b3dc04-f6f7-48ba-bf2a-14f70ff5d16e   \n",
       "1  89b3dc04-f6f7-48ba-bf2a-14f70ff5d16e   \n",
       "2  89b3dc04-f6f7-48ba-bf2a-14f70ff5d16e   \n",
       "\n",
       "                             article_batch_name  article_number  \\\n",
       "0  CovidArticles/USMightBeComplementingIran.txt          100054   \n",
       "1  CovidArticles/USMightBeComplementingIran.txt          100054   \n",
       "2  CovidArticles/USMightBeComplementingIran.txt          100054   \n",
       "\n",
       "                 article_filename  \\\n",
       "0  USMightBeComplementingIran.txt   \n",
       "1  USMightBeComplementingIran.txt   \n",
       "2  USMightBeComplementingIran.txt   \n",
       "\n",
       "                                      article_sha256  article_text_length  \\\n",
       "0  7360da3cdcf83a48e365821654ef0750810f3483efb8e2...                 1870   \n",
       "1  7360da3cdcf83a48e365821654ef0750810f3483efb8e2...                 1870   \n",
       "2  7360da3cdcf83a48e365821654ef0750810f3483efb8e2...                 1870   \n",
       "\n",
       "  destination  task_redundancy  taskrun_count  \\\n",
       "0     PYBOSSA                4             22   \n",
       "1     PYBOSSA                4             22   \n",
       "2     PYBOSSA                4             22   \n",
       "\n",
       "                      quiz_taskrun_uuid                      contributor_uuid  \\\n",
       "0  569039c7-059b-44ac-b947-2998dff1befc  e1ae8875-a398-4dde-8f4e-4b21109784e3   \n",
       "1  569039c7-059b-44ac-b947-2998dff1befc  e1ae8875-a398-4dde-8f4e-4b21109784e3   \n",
       "2  569039c7-059b-44ac-b947-2998dff1befc  e1ae8875-a398-4dde-8f4e-4b21109784e3   \n",
       "\n",
       "                      created                 finish_time  elapsed_seconds  \\\n",
       "0  2020-03-22 15:03:27.974431  2020-03-22 15:05:45.176476       137.202045   \n",
       "1  2020-03-22 15:03:27.974431  2020-03-22 15:05:45.176476       137.202045   \n",
       "2  2020-03-22 15:03:27.974431  2020-03-22 15:05:45.176476       137.202045   \n",
       "\n",
       "            topic_name question_label  \\\n",
       "0  Evidence Specialist          T1.Q1   \n",
       "1  Evidence Specialist          T1.Q2   \n",
       "2  Evidence Specialist          T1.Q2   \n",
       "\n",
       "                                       question_text answer_label  \\\n",
       "0  Is a general or singular causal claim made? Hi...     T1.Q1.A1   \n",
       "1  What evidence is given for the primary causal ...     T1.Q2.A8   \n",
       "2  What evidence is given for the primary causal ...     T1.Q2.A3   \n",
       "\n",
       "                                      answer_content  \\\n",
       "0        General Causation (In general, X causes Y.)   \n",
       "1                                     Other evidence   \n",
       "2  The correlation appears across multiple indepe...   \n",
       "\n",
       "                            answer_uuid                    submitted_tua_uuid  \\\n",
       "0  73d7a14a-9ec6-404c-b2b7-a55508af3b76  48c9aa6f-77c0-410f-9029-3aa47defef88   \n",
       "1  857d25f3-1a9c-45a3-b9dc-5cdc41e9d438  df4963b4-1436-406d-8f68-e3961bfd5fc5   \n",
       "2  fee5e5ec-ce13-43e7-aca6-5babee4eb8a5  f8700a84-7ede-496f-a90d-ebe0782ae0ff   \n",
       "\n",
       "                                         answer_text  case_number  \\\n",
       "0        General Causation (In general, X causes Y.)            1   \n",
       "1                                     Other evidence            1   \n",
       "2  The correlation appears across multiple indepe...            1   \n",
       "\n",
       "   highlight_count  start_pos  end_pos  \\\n",
       "0                1       1766     1801   \n",
       "1                1       1787     1801   \n",
       "2                1       1766     1842   \n",
       "\n",
       "                                         target_text  \n",
       "0                988 people have died from the virus  \n",
       "1                                     from the virus  \n",
       "2  988 people have died from the virus across Ira...  "
      ]
     },
     "execution_count": 2,
     "metadata": {},
     "output_type": "execute_result"
    }
   ],
   "source": [
    "file = 'Covid_Evidencev1-2020-11-08T0834-DataHunt.csv'\n",
    "df = pd.read_csv(\"data/\" + file)\n",
    "df.head(3)"
   ]
  },
  {
   "cell_type": "code",
   "execution_count": 3,
   "metadata": {
    "scrolled": false
   },
   "outputs": [
    {
     "data": {
      "text/plain": [
       "0      2020-03-22 15:05:45.176476\n",
       "1      2020-03-22 15:05:45.176476\n",
       "2      2020-03-22 15:05:45.176476\n",
       "3      2020-03-22 15:05:45.176476\n",
       "4      2020-03-22 15:05:45.176476\n",
       "                  ...            \n",
       "2952   2020-06-24 00:35:30.456675\n",
       "2953   2020-06-24 00:35:30.456675\n",
       "2954   2020-06-24 00:35:30.456675\n",
       "2955   2020-06-24 00:35:30.456675\n",
       "2956   2020-06-24 00:35:30.456675\n",
       "Name: finish_time_object, Length: 2957, dtype: datetime64[ns]"
      ]
     },
     "execution_count": 3,
     "metadata": {},
     "output_type": "execute_result"
    }
   ],
   "source": [
    "from datetime import datetime\n",
    "\n",
    "# Converts the 'finish_time' column from strings to datetime objects for sorting\n",
    "df[\"finish_time_object\"] = df[\"finish_time\"].apply(datetime.fromisoformat)\n",
    "df[\"finish_time_object\"]"
   ]
  },
  {
   "cell_type": "code",
   "execution_count": 4,
   "metadata": {},
   "outputs": [],
   "source": [
    "# Sort by 'finish_time_object' column\n",
    "df = df.sort_values(\"finish_time_object\")"
   ]
  },
  {
   "cell_type": "code",
   "execution_count": 5,
   "metadata": {},
   "outputs": [],
   "source": [
    "import json\n",
    "\n",
    "with open('datahunt_tracking.json', 'r') as fp:\n",
    "    datahunt_tracking = json.load(fp)"
   ]
  },
  {
   "cell_type": "code",
   "execution_count": 6,
   "metadata": {
    "scrolled": true
   },
   "outputs": [
    {
     "data": {
      "text/plain": [
       "{'Covid_Languagev1.1': 1557,\n",
       " 'Covid_Evidencev1': 2957,\n",
       " 'Covid_Reasoningv1': 622,\n",
       " 'Covid_Probabilityv1': 1592}"
      ]
     },
     "execution_count": 6,
     "metadata": {},
     "output_type": "execute_result"
    }
   ],
   "source": [
    "datahunt_tracking"
   ]
  },
  {
   "cell_type": "code",
   "execution_count": 10,
   "metadata": {},
   "outputs": [],
   "source": [
    "datahunt_name = re.compile('[^-]*')"
   ]
  },
  {
   "cell_type": "code",
   "execution_count": 11,
   "metadata": {
    "scrolled": false
   },
   "outputs": [
    {
     "name": "stdout",
     "output_type": "stream",
     "text": [
      "No unprocessed rows in this datahunt csv\n"
     ]
    }
   ],
   "source": [
    "if len(df) >= datahunt_tracking[re.search(datahunt_name, file).group()]:\n",
    "    print(\"No unprocessed rows in this datahunt csv\")\n",
    "else:\n",
    "    df_preprocessed = df.iloc[datahunt_tracking[re.search(datahunt_name, file).group()]]"
   ]
  },
  {
   "cell_type": "code",
   "execution_count": null,
   "metadata": {},
   "outputs": [],
   "source": [
    "# EXPORT DF_PREPROCESSED HERE AND RUN URS CODE"
   ]
  },
  {
   "cell_type": "code",
   "execution_count": null,
   "metadata": {},
   "outputs": [],
   "source": []
  }
 ],
 "metadata": {
  "kernelspec": {
   "display_name": "Python 3",
   "language": "python",
   "name": "python3"
  },
  "language_info": {
   "codemirror_mode": {
    "name": "ipython",
    "version": 3
   },
   "file_extension": ".py",
   "mimetype": "text/x-python",
   "name": "python",
   "nbconvert_exporter": "python",
   "pygments_lexer": "ipython3",
   "version": "3.8.3"
  }
 },
 "nbformat": 4,
 "nbformat_minor": 4
}
