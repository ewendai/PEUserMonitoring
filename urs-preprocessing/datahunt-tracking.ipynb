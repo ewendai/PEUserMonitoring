{
 "cells": [
  {
   "cell_type": "code",
   "execution_count": 1,
   "metadata": {},
   "outputs": [],
   "source": [
    "import numpy as np\n",
    "import pandas as pd\n",
    "import re\n",
    "import json"
   ]
  },
  {
   "cell_type": "markdown",
   "metadata": {},
   "source": [
    "# Create / Update the Datahunt tracking JSON file\n",
    "The purpose of this file is to store how much of a certain datahunt has already been processed and scored, so when we process an updated version of the datahunt, we don't double-score."
   ]
  },
  {
   "cell_type": "code",
   "execution_count": 2,
   "metadata": {},
   "outputs": [
    {
     "data": {
      "text/plain": [
       "['Covid_Languagev1.1-2020-11-08T0834-DataHunt.csv',\n",
       " 'Covid_Evidencev1-2020-11-08T0834-DataHunt.csv',\n",
       " 'Covid_Reasoningv1-2020-11-08T0834-DataHunt.csv',\n",
       " 'Covid_Probabilityv1-2020-11-08T0834-DataHunt.csv',\n",
       " 'Covid_Evidencev1-Task-2224-DataHunt.csv']"
      ]
     },
     "execution_count": 2,
     "metadata": {},
     "output_type": "execute_result"
    }
   ],
   "source": [
    "# Read all of the files in 'data' folder into a list\n",
    "from os import listdir\n",
    "from os.path import isfile, join\n",
    "datahunt_files = [f for f in listdir(\"data\") if isfile(join(\"data\", f))]\n",
    "datahunt_files"
   ]
  },
  {
   "cell_type": "code",
   "execution_count": 3,
   "metadata": {},
   "outputs": [],
   "source": [
    "datahunt_tracking = {}"
   ]
  },
  {
   "cell_type": "code",
   "execution_count": 4,
   "metadata": {},
   "outputs": [
    {
     "data": {
      "text/plain": [
       "{}"
      ]
     },
     "execution_count": 4,
     "metadata": {},
     "output_type": "execute_result"
    }
   ],
   "source": [
    "# with open('datahunt_tracking.json') as datahunt_tracking_json: \n",
    "#     datahunt_tracking = json.load(datahunt_tracking_json)\n",
    "\n",
    "datahunt_tracking"
   ]
  },
  {
   "cell_type": "markdown",
   "metadata": {},
   "source": [
    "Regex to match the name of the datahunt, without dates or any other file information"
   ]
  },
  {
   "cell_type": "code",
   "execution_count": 5,
   "metadata": {},
   "outputs": [],
   "source": [
    "datahunt_name = re.compile('[^-]*')"
   ]
  },
  {
   "cell_type": "code",
   "execution_count": 6,
   "metadata": {},
   "outputs": [],
   "source": [
    "# Add the number of rows in each file to dictionary 'datahunt_tracking'\n",
    "for file in datahunt_files:\n",
    "    file_datahunt = re.search(datahunt_name, file).group()\n",
    "    if file_datahunt in datahunt_tracking:\n",
    "        file_size = len(pd.read_csv(join(\"data\", file)))\n",
    "        datahunt_tracking[file_datahunt] = max(datahunt_tracking[file_datahunt], file_size)\n",
    "    else:\n",
    "        file_size = len(pd.read_csv(join(\"data\", file)))\n",
    "        datahunt_tracking[file_datahunt] = file_size"
   ]
  },
  {
   "cell_type": "code",
   "execution_count": 7,
   "metadata": {
    "scrolled": true
   },
   "outputs": [
    {
     "data": {
      "text/plain": [
       "{'Covid_Languagev1.1': 1557,\n",
       " 'Covid_Evidencev1': 2957,\n",
       " 'Covid_Reasoningv1': 622,\n",
       " 'Covid_Probabilityv1': 1592}"
      ]
     },
     "execution_count": 7,
     "metadata": {},
     "output_type": "execute_result"
    }
   ],
   "source": [
    "datahunt_tracking"
   ]
  },
  {
   "cell_type": "code",
   "execution_count": 8,
   "metadata": {},
   "outputs": [],
   "source": [
    "# Export dictionary\n",
    "with open('datahunt_tracking.json', 'w') as fp:\n",
    "    json.dump(datahunt_tracking, fp)"
   ]
  },
  {
   "cell_type": "code",
   "execution_count": null,
   "metadata": {},
   "outputs": [],
   "source": []
  }
 ],
 "metadata": {
  "kernelspec": {
   "display_name": "Python 3",
   "language": "python",
   "name": "python3"
  },
  "language_info": {
   "codemirror_mode": {
    "name": "ipython",
    "version": 3
   },
   "file_extension": ".py",
   "mimetype": "text/x-python",
   "name": "python",
   "nbconvert_exporter": "python",
   "pygments_lexer": "ipython3",
   "version": "3.8.3"
  }
 },
 "nbformat": 4,
 "nbformat_minor": 4
}
